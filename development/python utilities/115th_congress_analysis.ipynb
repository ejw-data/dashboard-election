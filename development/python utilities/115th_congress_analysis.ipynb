{
 "cells": [
  {
   "cell_type": "markdown",
   "metadata": {},
   "source": [
    "# Analysis of 115th Congress\n",
    "##template created by Erin Wills"
   ]
  },
  {
   "cell_type": "code",
   "execution_count": 24,
   "metadata": {},
   "outputs": [],
   "source": [
    "import pandas as pd\n",
    "import numpy as np\n",
    "import matplotlib as plt\n",
    "from sqlalchemy import create_engine"
   ]
  },
  {
   "cell_type": "code",
   "execution_count": 25,
   "metadata": {},
   "outputs": [],
   "source": [
    "df = pd.read_excel(\"../data/House_filtered.xlsx\")"
   ]
  },
  {
   "cell_type": "code",
   "execution_count": 26,
   "metadata": {},
   "outputs": [
    {
     "data": {
      "text/html": [
       "<div>\n",
       "<style scoped>\n",
       "    .dataframe tbody tr th:only-of-type {\n",
       "        vertical-align: middle;\n",
       "    }\n",
       "\n",
       "    .dataframe tbody tr th {\n",
       "        vertical-align: top;\n",
       "    }\n",
       "\n",
       "    .dataframe thead th {\n",
       "        text-align: right;\n",
       "    }\n",
       "</style>\n",
       "<table border=\"1\" class=\"dataframe\">\n",
       "  <thead>\n",
       "    <tr style=\"text-align: right;\">\n",
       "      <th></th>\n",
       "      <th>id</th>\n",
       "      <th>district</th>\n",
       "      <th>code</th>\n",
       "      <th>party</th>\n",
       "      <th>first_name</th>\n",
       "      <th>last_name</th>\n",
       "      <th>first_elected</th>\n",
       "      <th>election_type</th>\n",
       "      <th>birth_year</th>\n",
       "      <th>gender</th>\n",
       "      <th>...</th>\n",
       "      <th>census_totalpopulation_asianpacificislander</th>\n",
       "      <th>census_totalpopulation_nativeamerican</th>\n",
       "      <th>census_totalpopulation_other</th>\n",
       "      <th>census_votingagepopulation_total</th>\n",
       "      <th>census_votingagepopulation_white</th>\n",
       "      <th>census_votingagepopulation_black</th>\n",
       "      <th>census_votingagepopulation_latino</th>\n",
       "      <th>census_votingagepopulation_asianpacificislander</th>\n",
       "      <th>census_votingagepopulation_nativeamerican</th>\n",
       "      <th>census_votingagepopulation_other</th>\n",
       "    </tr>\n",
       "  </thead>\n",
       "  <tbody>\n",
       "    <tr>\n",
       "      <th>0</th>\n",
       "      <td>1</td>\n",
       "      <td>Alabama 1st</td>\n",
       "      <td>AL-01</td>\n",
       "      <td>Republican</td>\n",
       "      <td>Bradley</td>\n",
       "      <td>Byrne</td>\n",
       "      <td>2016.0</td>\n",
       "      <td>Normal</td>\n",
       "      <td>1955.0</td>\n",
       "      <td>Man</td>\n",
       "      <td>...</td>\n",
       "      <td>9296</td>\n",
       "      <td>7644</td>\n",
       "      <td>9350</td>\n",
       "      <td>515948</td>\n",
       "      <td>353347</td>\n",
       "      <td>132261</td>\n",
       "      <td>12904</td>\n",
       "      <td>6918</td>\n",
       "      <td>5524</td>\n",
       "      <td>4994</td>\n",
       "    </tr>\n",
       "    <tr>\n",
       "      <th>1</th>\n",
       "      <td>2</td>\n",
       "      <td>Alabama 2nd</td>\n",
       "      <td>AL-02</td>\n",
       "      <td>Republican</td>\n",
       "      <td>Martha</td>\n",
       "      <td>Roby</td>\n",
       "      <td>2010.0</td>\n",
       "      <td>Normal</td>\n",
       "      <td>1976.0</td>\n",
       "      <td>Woman</td>\n",
       "      <td>...</td>\n",
       "      <td>7900</td>\n",
       "      <td>3072</td>\n",
       "      <td>9953</td>\n",
       "      <td>522837</td>\n",
       "      <td>347855</td>\n",
       "      <td>145568</td>\n",
       "      <td>15912</td>\n",
       "      <td>6059</td>\n",
       "      <td>2371</td>\n",
       "      <td>5072</td>\n",
       "    </tr>\n",
       "    <tr>\n",
       "      <th>2</th>\n",
       "      <td>3</td>\n",
       "      <td>Alabama 3rd</td>\n",
       "      <td>AL-03</td>\n",
       "      <td>Republican</td>\n",
       "      <td>Mike</td>\n",
       "      <td>Rogers</td>\n",
       "      <td>2002.0</td>\n",
       "      <td>Normal</td>\n",
       "      <td>1958.0</td>\n",
       "      <td>Man</td>\n",
       "      <td>...</td>\n",
       "      <td>7923</td>\n",
       "      <td>2117</td>\n",
       "      <td>9057</td>\n",
       "      <td>523481</td>\n",
       "      <td>374072</td>\n",
       "      <td>125248</td>\n",
       "      <td>11783</td>\n",
       "      <td>5992</td>\n",
       "      <td>1705</td>\n",
       "      <td>4681</td>\n",
       "    </tr>\n",
       "    <tr>\n",
       "      <th>3</th>\n",
       "      <td>4</td>\n",
       "      <td>Alabama 4th</td>\n",
       "      <td>AL-04</td>\n",
       "      <td>Republican</td>\n",
       "      <td>Robert</td>\n",
       "      <td>Aderholt</td>\n",
       "      <td>1996.0</td>\n",
       "      <td>Normal</td>\n",
       "      <td>1965.0</td>\n",
       "      <td>Man</td>\n",
       "      <td>...</td>\n",
       "      <td>3200</td>\n",
       "      <td>5218</td>\n",
       "      <td>9616</td>\n",
       "      <td>521081</td>\n",
       "      <td>452704</td>\n",
       "      <td>34104</td>\n",
       "      <td>22579</td>\n",
       "      <td>2369</td>\n",
       "      <td>3870</td>\n",
       "      <td>5455</td>\n",
       "    </tr>\n",
       "    <tr>\n",
       "      <th>4</th>\n",
       "      <td>5</td>\n",
       "      <td>Alabama 5th</td>\n",
       "      <td>AL-05</td>\n",
       "      <td>Republican</td>\n",
       "      <td>Mo</td>\n",
       "      <td>Brooks</td>\n",
       "      <td>2010.0</td>\n",
       "      <td>Normal</td>\n",
       "      <td>1954.0</td>\n",
       "      <td>Man</td>\n",
       "      <td>...</td>\n",
       "      <td>11051</td>\n",
       "      <td>4753</td>\n",
       "      <td>13449</td>\n",
       "      <td>523079</td>\n",
       "      <td>398175</td>\n",
       "      <td>85119</td>\n",
       "      <td>20508</td>\n",
       "      <td>8381</td>\n",
       "      <td>3628</td>\n",
       "      <td>7268</td>\n",
       "    </tr>\n",
       "  </tbody>\n",
       "</table>\n",
       "<p>5 rows × 93 columns</p>\n",
       "</div>"
      ],
      "text/plain": [
       "   id     district   code       party first_name last_name  first_elected  \\\n",
       "0   1  Alabama 1st  AL-01  Republican    Bradley     Byrne         2016.0   \n",
       "1   2  Alabama 2nd  AL-02  Republican     Martha      Roby         2010.0   \n",
       "2   3  Alabama 3rd  AL-03  Republican       Mike    Rogers         2002.0   \n",
       "3   4  Alabama 4th  AL-04  Republican     Robert  Aderholt         1996.0   \n",
       "4   5  Alabama 5th  AL-05  Republican         Mo    Brooks         2010.0   \n",
       "\n",
       "  election_type  birth_year gender  ...  \\\n",
       "0        Normal      1955.0    Man  ...   \n",
       "1        Normal      1976.0  Woman  ...   \n",
       "2        Normal      1958.0    Man  ...   \n",
       "3        Normal      1965.0    Man  ...   \n",
       "4        Normal      1954.0    Man  ...   \n",
       "\n",
       "  census_totalpopulation_asianpacificislander  \\\n",
       "0                                        9296   \n",
       "1                                        7900   \n",
       "2                                        7923   \n",
       "3                                        3200   \n",
       "4                                       11051   \n",
       "\n",
       "  census_totalpopulation_nativeamerican census_totalpopulation_other  \\\n",
       "0                                  7644                         9350   \n",
       "1                                  3072                         9953   \n",
       "2                                  2117                         9057   \n",
       "3                                  5218                         9616   \n",
       "4                                  4753                        13449   \n",
       "\n",
       "  census_votingagepopulation_total  census_votingagepopulation_white  \\\n",
       "0                           515948                            353347   \n",
       "1                           522837                            347855   \n",
       "2                           523481                            374072   \n",
       "3                           521081                            452704   \n",
       "4                           523079                            398175   \n",
       "\n",
       "   census_votingagepopulation_black  census_votingagepopulation_latino  \\\n",
       "0                            132261                              12904   \n",
       "1                            145568                              15912   \n",
       "2                            125248                              11783   \n",
       "3                             34104                              22579   \n",
       "4                             85119                              20508   \n",
       "\n",
       "   census_votingagepopulation_asianpacificislander  \\\n",
       "0                                             6918   \n",
       "1                                             6059   \n",
       "2                                             5992   \n",
       "3                                             2369   \n",
       "4                                             8381   \n",
       "\n",
       "   census_votingagepopulation_nativeamerican  census_votingagepopulation_other  \n",
       "0                                       5524                              4994  \n",
       "1                                       2371                              5072  \n",
       "2                                       1705                              4681  \n",
       "3                                       3870                              5455  \n",
       "4                                       3628                              7268  \n",
       "\n",
       "[5 rows x 93 columns]"
      ]
     },
     "execution_count": 26,
     "metadata": {},
     "output_type": "execute_result"
    }
   ],
   "source": [
    "df.head()"
   ]
  },
  {
   "cell_type": "code",
   "execution_count": 27,
   "metadata": {},
   "outputs": [
    {
     "data": {
      "text/plain": [
       "id                 int64\n",
       "district          object\n",
       "code              object\n",
       "party             object\n",
       "first_name        object\n",
       "last_name         object\n",
       "first_elected    float64\n",
       "election_type     object\n",
       "birth_year       float64\n",
       "gender            object\n",
       "dtype: object"
      ]
     },
     "execution_count": 27,
     "metadata": {},
     "output_type": "execute_result"
    }
   ],
   "source": [
    "df.dtypes.head(10)"
   ]
  },
  {
   "cell_type": "code",
   "execution_count": 42,
   "metadata": {},
   "outputs": [],
   "source": [
    "##df['FirstElected']= pd.to_datetime(df['FirstElected']) "
   ]
  },
  {
   "cell_type": "code",
   "execution_count": 43,
   "metadata": {},
   "outputs": [],
   "source": [
    "##df['BirthYear']= pd.to_datetime(df['BirthYear']) "
   ]
  },
  {
   "cell_type": "code",
   "execution_count": 5,
   "metadata": {},
   "outputs": [],
   "source": [
    "##df.dtypes.head(10)"
   ]
  },
  {
   "cell_type": "code",
   "execution_count": 28,
   "metadata": {},
   "outputs": [
    {
     "data": {
      "text/plain": [
       "Man      343\n",
       "Woman     84\n",
       "Name: gender, dtype: int64"
      ]
     },
     "execution_count": 28,
     "metadata": {},
     "output_type": "execute_result"
    }
   ],
   "source": [
    "df['gender'].value_counts()"
   ]
  },
  {
   "cell_type": "code",
   "execution_count": 29,
   "metadata": {},
   "outputs": [
    {
     "data": {
      "text/plain": [
       "Index(['id', 'district', 'code', 'party', 'first_name', 'last_name',\n",
       "       'first_elected', 'election_type', 'birth_year', 'gender',\n",
       "       'race_ethnicity', 'religion', 'lgbtq', 'seat_status2016',\n",
       "       '2016votepercent_president_democrat',\n",
       "       '2016votepercent_president_republican',\n",
       "       '2012votepercent_president_democrat',\n",
       "       '2012votepercent_president_republican',\n",
       "       '2008votepercent_president_democrat',\n",
       "       '2008votepercent_president_republican',\n",
       "       '2016votepercent_house_democrat', '2016votepercent_house_republican',\n",
       "       '2014votepercent_house_democrat', '2014votepercent_house_republican',\n",
       "       '2012two_party_dem', '2012two_party_rep', 'acs_population_adult_white',\n",
       "       'acs_population_adult_black', 'acs_population_adult_latino',\n",
       "       'acs_population_adult_asianpacificislander',\n",
       "       'acs_population_adult_native', 'acs_population_adult_other',\n",
       "       'census_population2010_adult_white',\n",
       "       'census_population2010_adult_black',\n",
       "       'census_population2010_adult_latino',\n",
       "       'census_population2010_adult_asianpacificislander',\n",
       "       'census_population2010_adult_native',\n",
       "       'census_population2010_adult_other', 'acs_bachelordegree_age25plus',\n",
       "       'acs_ba_rank', 'acs_ba_white', 'acs_ba_white_rank', 'acs_medianincome',\n",
       "       'acs_medianincome_rank', 'noncollege_white_share', 'sort',\n",
       "       '2016votetotal_president', '2016vote_president_democrat',\n",
       "       '2016vote_president_republican', '2012votetotal_president',\n",
       "       '2012vote_pesident_democrat', '2012vote_president_republican',\n",
       "       '2008votetotal_president', '2008vote_president_democrat',\n",
       "       '2008vote_president_republican', '2016votetotal_house',\n",
       "       '2016vote_house_democrat', '2016vote_house_republican',\n",
       "       '2016vote_house_other', '2014vote_total_house',\n",
       "       '2014vote_house_democrat', '2014vote_house_republican',\n",
       "       '2014vote_house_other', '2012house2_party_dem', '2012house2_party_rep',\n",
       "       'acs_population_total', 'acs_population_white', 'acs_population_black',\n",
       "       'acs_population_latino', 'acs_population_asianpacificislander',\n",
       "       'acs_population_nativeamerican', 'acs_population_other',\n",
       "       'acs_votingagepopulation_total', 'acs_votingagepopulation_white',\n",
       "       'acs_votingagepopulation_black', 'acs_votingagepopulation_latino',\n",
       "       'acs_votingagepopulation_asianpacificislander',\n",
       "       'acs_votingagepopulation_nativeamerican',\n",
       "       'acs_votingagepopulation_other', 'census_totalpopulation',\n",
       "       'census_totalpopulation_white', 'census_totalpopulation_black',\n",
       "       'census_totalpopulation_latino',\n",
       "       'census_totalpopulation_asianpacificislander',\n",
       "       'census_totalpopulation_nativeamerican', 'census_totalpopulation_other',\n",
       "       'census_votingagepopulation_total', 'census_votingagepopulation_white',\n",
       "       'census_votingagepopulation_black', 'census_votingagepopulation_latino',\n",
       "       'census_votingagepopulation_asianpacificislander',\n",
       "       'census_votingagepopulation_nativeamerican',\n",
       "       'census_votingagepopulation_other'],\n",
       "      dtype='object')"
      ]
     },
     "execution_count": 29,
     "metadata": {},
     "output_type": "execute_result"
    }
   ],
   "source": [
    "df.keys()"
   ]
  },
  {
   "cell_type": "code",
   "execution_count": 30,
   "metadata": {},
   "outputs": [
    {
     "data": {
      "text/plain": [
       "array(['Republican', 'Democratic', 'Vacant (R)', 'Vacant (D)'],\n",
       "      dtype=object)"
      ]
     },
     "execution_count": 30,
     "metadata": {},
     "output_type": "execute_result"
    }
   ],
   "source": [
    "df[\"party\"].unique()"
   ]
  },
  {
   "cell_type": "code",
   "execution_count": null,
   "metadata": {},
   "outputs": [],
   "source": []
  },
  {
   "cell_type": "code",
   "execution_count": null,
   "metadata": {},
   "outputs": [],
   "source": []
  },
  {
   "cell_type": "markdown",
   "metadata": {},
   "source": [
    "# Database Connection"
   ]
  },
  {
   "cell_type": "code",
   "execution_count": 35,
   "metadata": {},
   "outputs": [],
   "source": [
    "rds_connection_string = \"postgres:postgres@localhost:5433/election_db\""
   ]
  },
  {
   "cell_type": "code",
   "execution_count": 36,
   "metadata": {},
   "outputs": [],
   "source": [
    "engine = create_engine(f'postgresql://{rds_connection_string}')"
   ]
  },
  {
   "cell_type": "code",
   "execution_count": 37,
   "metadata": {},
   "outputs": [
    {
     "data": {
      "text/plain": [
       "['house_districts']"
      ]
     },
     "execution_count": 37,
     "metadata": {},
     "output_type": "execute_result"
    }
   ],
   "source": [
    "engine.table_names()"
   ]
  },
  {
   "cell_type": "code",
   "execution_count": null,
   "metadata": {},
   "outputs": [],
   "source": []
  },
  {
   "cell_type": "markdown",
   "metadata": {},
   "source": [
    "# Create Database from python"
   ]
  },
  {
   "cell_type": "code",
   "execution_count": 38,
   "metadata": {},
   "outputs": [],
   "source": [
    "df.to_sql(name = 'house_districts', con = engine, if_exists = 'append', index=False)"
   ]
  },
  {
   "cell_type": "code",
   "execution_count": null,
   "metadata": {},
   "outputs": [],
   "source": []
  },
  {
   "cell_type": "markdown",
   "metadata": {},
   "source": [
    "# Check if tables were created"
   ]
  },
  {
   "cell_type": "code",
   "execution_count": 41,
   "metadata": {
    "scrolled": true
   },
   "outputs": [
    {
     "data": {
      "text/html": [
       "<div>\n",
       "<style scoped>\n",
       "    .dataframe tbody tr th:only-of-type {\n",
       "        vertical-align: middle;\n",
       "    }\n",
       "\n",
       "    .dataframe tbody tr th {\n",
       "        vertical-align: top;\n",
       "    }\n",
       "\n",
       "    .dataframe thead th {\n",
       "        text-align: right;\n",
       "    }\n",
       "</style>\n",
       "<table border=\"1\" class=\"dataframe\">\n",
       "  <thead>\n",
       "    <tr style=\"text-align: right;\">\n",
       "      <th></th>\n",
       "      <th>id</th>\n",
       "      <th>district</th>\n",
       "      <th>code</th>\n",
       "      <th>party</th>\n",
       "      <th>first_name</th>\n",
       "      <th>last_name</th>\n",
       "      <th>first_elected</th>\n",
       "      <th>election_type</th>\n",
       "      <th>birth_year</th>\n",
       "      <th>gender</th>\n",
       "      <th>...</th>\n",
       "      <th>census_totalpopulation_asianpacificislander</th>\n",
       "      <th>census_totalpopulation_nativeamerican</th>\n",
       "      <th>census_totalpopulation_other</th>\n",
       "      <th>census_votingagepopulation_total</th>\n",
       "      <th>census_votingagepopulation_white</th>\n",
       "      <th>census_votingagepopulation_black</th>\n",
       "      <th>census_votingagepopulation_latino</th>\n",
       "      <th>census_votingagepopulation_asianpacificislander</th>\n",
       "      <th>census_votingagepopulation_nativeamerican</th>\n",
       "      <th>census_votingagepopulation_other</th>\n",
       "    </tr>\n",
       "  </thead>\n",
       "  <tbody>\n",
       "    <tr>\n",
       "      <th>0</th>\n",
       "      <td>1</td>\n",
       "      <td>Alabama 1st</td>\n",
       "      <td>AL-01</td>\n",
       "      <td>Republican</td>\n",
       "      <td>Bradley</td>\n",
       "      <td>Byrne</td>\n",
       "      <td>2016.0</td>\n",
       "      <td>Normal</td>\n",
       "      <td>1955.0</td>\n",
       "      <td>Man</td>\n",
       "      <td>...</td>\n",
       "      <td>9296.0</td>\n",
       "      <td>7644.0</td>\n",
       "      <td>9350.0</td>\n",
       "      <td>515948.0</td>\n",
       "      <td>353347.0</td>\n",
       "      <td>132261.0</td>\n",
       "      <td>12904.0</td>\n",
       "      <td>6918.0</td>\n",
       "      <td>5524.0</td>\n",
       "      <td>4994.0</td>\n",
       "    </tr>\n",
       "    <tr>\n",
       "      <th>1</th>\n",
       "      <td>2</td>\n",
       "      <td>Alabama 2nd</td>\n",
       "      <td>AL-02</td>\n",
       "      <td>Republican</td>\n",
       "      <td>Martha</td>\n",
       "      <td>Roby</td>\n",
       "      <td>2010.0</td>\n",
       "      <td>Normal</td>\n",
       "      <td>1976.0</td>\n",
       "      <td>Woman</td>\n",
       "      <td>...</td>\n",
       "      <td>7900.0</td>\n",
       "      <td>3072.0</td>\n",
       "      <td>9953.0</td>\n",
       "      <td>522837.0</td>\n",
       "      <td>347855.0</td>\n",
       "      <td>145568.0</td>\n",
       "      <td>15912.0</td>\n",
       "      <td>6059.0</td>\n",
       "      <td>2371.0</td>\n",
       "      <td>5072.0</td>\n",
       "    </tr>\n",
       "    <tr>\n",
       "      <th>2</th>\n",
       "      <td>3</td>\n",
       "      <td>Alabama 3rd</td>\n",
       "      <td>AL-03</td>\n",
       "      <td>Republican</td>\n",
       "      <td>Mike</td>\n",
       "      <td>Rogers</td>\n",
       "      <td>2002.0</td>\n",
       "      <td>Normal</td>\n",
       "      <td>1958.0</td>\n",
       "      <td>Man</td>\n",
       "      <td>...</td>\n",
       "      <td>7923.0</td>\n",
       "      <td>2117.0</td>\n",
       "      <td>9057.0</td>\n",
       "      <td>523481.0</td>\n",
       "      <td>374072.0</td>\n",
       "      <td>125248.0</td>\n",
       "      <td>11783.0</td>\n",
       "      <td>5992.0</td>\n",
       "      <td>1705.0</td>\n",
       "      <td>4681.0</td>\n",
       "    </tr>\n",
       "    <tr>\n",
       "      <th>3</th>\n",
       "      <td>4</td>\n",
       "      <td>Alabama 4th</td>\n",
       "      <td>AL-04</td>\n",
       "      <td>Republican</td>\n",
       "      <td>Robert</td>\n",
       "      <td>Aderholt</td>\n",
       "      <td>1996.0</td>\n",
       "      <td>Normal</td>\n",
       "      <td>1965.0</td>\n",
       "      <td>Man</td>\n",
       "      <td>...</td>\n",
       "      <td>3200.0</td>\n",
       "      <td>5218.0</td>\n",
       "      <td>9616.0</td>\n",
       "      <td>521081.0</td>\n",
       "      <td>452704.0</td>\n",
       "      <td>34104.0</td>\n",
       "      <td>22579.0</td>\n",
       "      <td>2369.0</td>\n",
       "      <td>3870.0</td>\n",
       "      <td>5455.0</td>\n",
       "    </tr>\n",
       "    <tr>\n",
       "      <th>4</th>\n",
       "      <td>5</td>\n",
       "      <td>Alabama 5th</td>\n",
       "      <td>AL-05</td>\n",
       "      <td>Republican</td>\n",
       "      <td>Mo</td>\n",
       "      <td>Brooks</td>\n",
       "      <td>2010.0</td>\n",
       "      <td>Normal</td>\n",
       "      <td>1954.0</td>\n",
       "      <td>Man</td>\n",
       "      <td>...</td>\n",
       "      <td>11051.0</td>\n",
       "      <td>4753.0</td>\n",
       "      <td>13449.0</td>\n",
       "      <td>523079.0</td>\n",
       "      <td>398175.0</td>\n",
       "      <td>85119.0</td>\n",
       "      <td>20508.0</td>\n",
       "      <td>8381.0</td>\n",
       "      <td>3628.0</td>\n",
       "      <td>7268.0</td>\n",
       "    </tr>\n",
       "  </tbody>\n",
       "</table>\n",
       "<p>5 rows × 93 columns</p>\n",
       "</div>"
      ],
      "text/plain": [
       "   id     district   code       party first_name last_name  first_elected  \\\n",
       "0   1  Alabama 1st  AL-01  Republican    Bradley     Byrne         2016.0   \n",
       "1   2  Alabama 2nd  AL-02  Republican     Martha      Roby         2010.0   \n",
       "2   3  Alabama 3rd  AL-03  Republican       Mike    Rogers         2002.0   \n",
       "3   4  Alabama 4th  AL-04  Republican     Robert  Aderholt         1996.0   \n",
       "4   5  Alabama 5th  AL-05  Republican         Mo    Brooks         2010.0   \n",
       "\n",
       "  election_type  birth_year gender  ...  \\\n",
       "0        Normal      1955.0    Man  ...   \n",
       "1        Normal      1976.0  Woman  ...   \n",
       "2        Normal      1958.0    Man  ...   \n",
       "3        Normal      1965.0    Man  ...   \n",
       "4        Normal      1954.0    Man  ...   \n",
       "\n",
       "  census_totalpopulation_asianpacificislander  \\\n",
       "0                                      9296.0   \n",
       "1                                      7900.0   \n",
       "2                                      7923.0   \n",
       "3                                      3200.0   \n",
       "4                                     11051.0   \n",
       "\n",
       "  census_totalpopulation_nativeamerican census_totalpopulation_other  \\\n",
       "0                                7644.0                       9350.0   \n",
       "1                                3072.0                       9953.0   \n",
       "2                                2117.0                       9057.0   \n",
       "3                                5218.0                       9616.0   \n",
       "4                                4753.0                      13449.0   \n",
       "\n",
       "  census_votingagepopulation_total  census_votingagepopulation_white  \\\n",
       "0                         515948.0                          353347.0   \n",
       "1                         522837.0                          347855.0   \n",
       "2                         523481.0                          374072.0   \n",
       "3                         521081.0                          452704.0   \n",
       "4                         523079.0                          398175.0   \n",
       "\n",
       "   census_votingagepopulation_black  census_votingagepopulation_latino  \\\n",
       "0                          132261.0                            12904.0   \n",
       "1                          145568.0                            15912.0   \n",
       "2                          125248.0                            11783.0   \n",
       "3                           34104.0                            22579.0   \n",
       "4                           85119.0                            20508.0   \n",
       "\n",
       "   census_votingagepopulation_asianpacificislander  \\\n",
       "0                                           6918.0   \n",
       "1                                           6059.0   \n",
       "2                                           5992.0   \n",
       "3                                           2369.0   \n",
       "4                                           8381.0   \n",
       "\n",
       "   census_votingagepopulation_nativeamerican  census_votingagepopulation_other  \n",
       "0                                     5524.0                            4994.0  \n",
       "1                                     2371.0                            5072.0  \n",
       "2                                     1705.0                            4681.0  \n",
       "3                                     3870.0                            5455.0  \n",
       "4                                     3628.0                            7268.0  \n",
       "\n",
       "[5 rows x 93 columns]"
      ]
     },
     "execution_count": 41,
     "metadata": {},
     "output_type": "execute_result"
    }
   ],
   "source": [
    "pd.read_sql_query('select * from house_districts', con=engine).head()"
   ]
  },
  {
   "cell_type": "code",
   "execution_count": 43,
   "metadata": {},
   "outputs": [],
   "source": [
    "init_age = df['first_elected'] - df['birth_year']"
   ]
  },
  {
   "cell_type": "code",
   "execution_count": 44,
   "metadata": {},
   "outputs": [
    {
     "data": {
      "text/plain": [
       "0    61.0\n",
       "1    34.0\n",
       "2    44.0\n",
       "3    31.0\n",
       "4    56.0\n",
       "dtype: float64"
      ]
     },
     "execution_count": 44,
     "metadata": {},
     "output_type": "execute_result"
    }
   ],
   "source": [
    "init_age.head()"
   ]
  }
 ],
 "metadata": {
  "kernelspec": {
   "display_name": "Python 3",
   "language": "python",
   "name": "python3"
  },
  "language_info": {
   "codemirror_mode": {
    "name": "ipython",
    "version": 3
   },
   "file_extension": ".py",
   "mimetype": "text/x-python",
   "name": "python",
   "nbconvert_exporter": "python",
   "pygments_lexer": "ipython3",
   "version": "3.7.3"
  }
 },
 "nbformat": 4,
 "nbformat_minor": 2
}
